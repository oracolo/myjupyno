{
 "cells": [
  {
   "cell_type": "markdown",
   "metadata": {},
   "source": [
    "# L'equazione logistica (e la mappa logistica)\n",
    "\n",
    "Una prima cosa da fare è definire una funzione che faccia un po' di calcoli per noi.\n",
    "\n",
    "Ricordiamoci che\n",
    "\n",
    "$$x_{n+1} = r \\cdot x_n \\cdot (1-x_n)$$\n",
    "\n",
    "Ci sarà un intervallo in cui\n",
    "\n",
    "$$\\forall x_1, x_2: |f(x_2)-f(x_1)| \\le | x_1 - x_2 |$$"
   ]
  },
  {
   "cell_type": "code",
   "execution_count": 39,
   "metadata": {},
   "outputs": [],
   "source": [
    "def logistic(x = 0.5, r = 2, stampa = 10, filter = 1000):\n",
    "    for iterazione in range(stampa + filter):\n",
    "        x = r * x * (1 - x)\n",
    "        if iterazione > filter:\n",
    "            print(f\"{x:.5f}\")"
   ]
  },
  {
   "cell_type": "markdown",
   "metadata": {},
   "source": [
    "E ora calcoliamo dove va a finire la popolazione:"
   ]
  },
  {
   "cell_type": "code",
   "execution_count": 40,
   "metadata": {},
   "outputs": [
    {
     "name": "stdout",
     "output_type": "stream",
     "text": [
      "0.00000\n",
      "0.00000\n",
      "0.00000\n",
      "0.00000\n",
      "0.00000\n",
      "0.00000\n",
      "0.00000\n",
      "0.00000\n",
      "0.00000\n"
     ]
    }
   ],
   "source": [
    "logistic(r = 0.8)"
   ]
  },
  {
   "cell_type": "markdown",
   "metadata": {},
   "source": [
    "Aumentiamo la fertitlità:"
   ]
  },
  {
   "cell_type": "code",
   "execution_count": 41,
   "metadata": {},
   "outputs": [
    {
     "name": "stdout",
     "output_type": "stream",
     "text": [
      "0.16667\n",
      "0.16667\n",
      "0.16667\n",
      "0.16667\n",
      "0.16667\n",
      "0.16667\n",
      "0.16667\n",
      "0.16667\n",
      "0.16667\n"
     ]
    }
   ],
   "source": [
    "logistic(r = 1.2)"
   ]
  },
  {
   "cell_type": "markdown",
   "metadata": {},
   "source": [
    "Ok, portiamola a 2:"
   ]
  },
  {
   "cell_type": "code",
   "execution_count": 42,
   "metadata": {},
   "outputs": [
    {
     "name": "stdout",
     "output_type": "stream",
     "text": [
      "0.50000\n",
      "0.50000\n",
      "0.50000\n",
      "0.50000\n",
      "0.50000\n",
      "0.50000\n",
      "0.50000\n",
      "0.50000\n",
      "0.50000\n"
     ]
    }
   ],
   "source": [
    "logistic(r = 2)"
   ]
  },
  {
   "cell_type": "code",
   "execution_count": 43,
   "metadata": {},
   "outputs": [
    {
     "name": "stdout",
     "output_type": "stream",
     "text": [
      "0.66102\n",
      "0.66102\n",
      "0.66102\n",
      "0.66102\n",
      "0.66102\n",
      "0.66102\n",
      "0.66102\n",
      "0.66102\n",
      "0.66102\n"
     ]
    }
   ],
   "source": [
    "logistic(r = 2.95)"
   ]
  },
  {
   "cell_type": "code",
   "execution_count": 44,
   "metadata": {},
   "outputs": [
    {
     "name": "stdout",
     "output_type": "stream",
     "text": [
      "0.51304\n",
      "0.79946\n",
      "0.51304\n",
      "0.79946\n",
      "0.51304\n",
      "0.79946\n",
      "0.51304\n",
      "0.79946\n",
      "0.51304\n"
     ]
    }
   ],
   "source": [
    "logistic(r = 3.2)"
   ]
  },
  {
   "cell_type": "code",
   "execution_count": 45,
   "metadata": {},
   "outputs": [
    {
     "name": "stdout",
     "output_type": "stream",
     "text": [
      "0.47943\n",
      "0.82360\n",
      "0.47943\n",
      "0.82360\n",
      "0.47943\n",
      "0.82360\n",
      "0.47943\n",
      "0.82360\n",
      "0.47943\n",
      "0.82360\n",
      "0.47943\n",
      "0.82360\n",
      "0.47943\n",
      "0.82360\n",
      "0.47943\n",
      "0.82360\n",
      "0.47943\n",
      "0.82360\n",
      "0.47943\n"
     ]
    }
   ],
   "source": [
    "logistic(r = 3.3, stampa = 20)"
   ]
  },
  {
   "cell_type": "code",
   "execution_count": 49,
   "metadata": {},
   "outputs": [
    {
     "name": "stdout",
     "output_type": "stream",
     "text": [
      "0.38282\n",
      "0.82694\n",
      "0.50088\n",
      "0.87500\n",
      "0.38282\n",
      "0.82694\n",
      "0.50088\n",
      "0.87500\n",
      "0.38282\n",
      "0.82694\n",
      "0.50088\n",
      "0.87500\n",
      "0.38282\n",
      "0.82694\n",
      "0.50088\n",
      "0.87500\n",
      "0.38282\n",
      "0.82694\n",
      "0.50088\n"
     ]
    }
   ],
   "source": [
    "logistic(r = 3.5, stampa = 20)"
   ]
  },
  {
   "cell_type": "code",
   "execution_count": null,
   "metadata": {},
   "outputs": [],
   "source": []
  }
 ],
 "metadata": {
  "kernelspec": {
   "display_name": "Python 3",
   "language": "python",
   "name": "python3"
  },
  "language_info": {
   "codemirror_mode": {
    "name": "ipython",
    "version": 3
   },
   "file_extension": ".py",
   "mimetype": "text/x-python",
   "name": "python",
   "nbconvert_exporter": "python",
   "pygments_lexer": "ipython3",
   "version": "3.6.6+"
  }
 },
 "nbformat": 4,
 "nbformat_minor": 4
}
